{
 "cells": [
  {
   "cell_type": "code",
   "execution_count": 2,
   "metadata": {},
   "outputs": [
    {
     "name": "stdout",
     "output_type": "stream",
     "text": [
      "✅ Tags renamed and saved in-place to: C:/Users/jihad/Desktop/chatbot_from_scratch/dailydialog_intents.json\n",
      "🧾 Example: Ordinary Life_1, Ordinary Life_2, ...\n"
     ]
    }
   ],
   "source": [
    "import json\n",
    "from collections import defaultdict\n",
    "\n",
    "# Path to the original file\n",
    "file_path = \"C:/Users/jihad/Desktop/chatbot_from_scratch/dailydialog_intents.json\"\n",
    "\n",
    "# Load existing data\n",
    "with open(file_path, \"r\", encoding=\"utf-8\") as f:\n",
    "    data = json.load(f)\n",
    "\n",
    "tag_counts = defaultdict(int)\n",
    "updated_intents = []\n",
    "\n",
    "# Rename repeated tags\n",
    "for intent in data[\"intents\"]:\n",
    "    base_tag = intent[\"tag\"]\n",
    "    tag_counts[base_tag] += 1\n",
    "    unique_tag = f\"{base_tag}_{tag_counts[base_tag]}\"\n",
    "\n",
    "    updated_intents.append({\n",
    "        \"tag\": unique_tag,\n",
    "        \"patterns\": intent[\"patterns\"],\n",
    "        \"responses\": intent[\"responses\"]\n",
    "    })\n",
    "\n",
    "# Overwrite the original file with updated tags\n",
    "with open(file_path, \"w\", encoding=\"utf-8\") as f:\n",
    "    json.dump({\"intents\": updated_intents}, f, indent=4, ensure_ascii=False)\n",
    "\n",
    "print(f\"✅ Tags renamed and saved in-place to: {file_path}\")\n",
    "print(f\"🧾 Example: {updated_intents[0]['tag']}, {updated_intents[1]['tag']}, ...\")\n"
   ]
  }
 ],
 "metadata": {
  "kernelspec": {
   "display_name": "Python 3",
   "language": "python",
   "name": "python3"
  },
  "language_info": {
   "codemirror_mode": {
    "name": "ipython",
    "version": 3
   },
   "file_extension": ".py",
   "mimetype": "text/x-python",
   "name": "python",
   "nbconvert_exporter": "python",
   "pygments_lexer": "ipython3",
   "version": "3.13.2"
  }
 },
 "nbformat": 4,
 "nbformat_minor": 2
}
