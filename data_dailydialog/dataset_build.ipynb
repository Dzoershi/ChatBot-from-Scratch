{
 "cells": [
  {
   "cell_type": "code",
   "execution_count": 3,
   "metadata": {},
   "outputs": [],
   "source": [
    "import json\n",
    "from pathlib import Path\n",
    "from collections import defaultdict"
   ]
  },
  {
   "cell_type": "code",
   "execution_count": 6,
   "metadata": {},
   "outputs": [
    {
     "name": "stdout",
     "output_type": "stream",
     "text": [
      "✅ JSON file created at: C:\\Users\\jihad\\Desktop\\ChatBot-from-Scratch\\data_dailydialog\\dialogues_final_format.json\n"
     ]
    }
   ],
   "source": [
    "dialogue_txt_path = Path(\"C:/Users/jihad/Desktop/ChatBot-from-Scratch/data_dailydialog/dialogues_raw.txt\")\n",
    "json_output_path_v2 = Path(\"C:/Users/jihad/Desktop/ChatBot-from-Scratch/data_dailydialog/dialogues_final_format.json\")\n",
    "\n",
    "\n",
    "with dialogue_txt_path.open(\"r\", encoding=\"utf-8\") as f:\n",
    "    dialogue_lines = f.readlines()\n",
    "\n",
    "\n",
    "pattern_response_map = defaultdict(set)\n",
    "\n",
    "\n",
    "for line in dialogue_lines:\n",
    "    turns = [turn.strip() for turn in line.split(\"__eou__\") if turn.strip()]\n",
    "    for i in range(0, len(turns) - 1, 2):\n",
    "        pattern = turns[i]\n",
    "        response = turns[i + 1]\n",
    "        pattern_response_map[pattern].add(response)\n",
    "\n",
    "\n",
    "intents = [{\"pattern\": pattern, \"responses\": list(responses)} for pattern, responses in pattern_response_map.items()]\n",
    "final_data = {\"intents\": intents}\n",
    "\n",
    "\n",
    "with json_output_path_v2.open(\"w\", encoding=\"utf-8\") as f:\n",
    "    json.dump(final_data, f, indent=4, ensure_ascii=False)\n",
    "\n",
    "print(f\"✅ JSON file created at: {json_output_path_v2}\")"
   ]
  }
 ],
 "metadata": {
  "kernelspec": {
   "display_name": ".venv",
   "language": "python",
   "name": "python3"
  },
  "language_info": {
   "codemirror_mode": {
    "name": "ipython",
    "version": 3
   },
   "file_extension": ".py",
   "mimetype": "text/x-python",
   "name": "python",
   "nbconvert_exporter": "python",
   "pygments_lexer": "ipython3",
   "version": "3.13.2"
  }
 },
 "nbformat": 4,
 "nbformat_minor": 2
}
